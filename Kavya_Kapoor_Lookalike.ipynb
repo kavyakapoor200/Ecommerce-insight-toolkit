{
  "cells": [
    {
      "cell_type": "markdown",
      "metadata": {
        "id": "view-in-github",
        "colab_type": "text"
      },
      "source": [
        "<a href=\"https://colab.research.google.com/github/kavyakapoor200/Ecommerce-insight-toolkit/blob/main/Kavya_Kapoor_Lookalike.ipynb\" target=\"_parent\"><img src=\"https://colab.research.google.com/assets/colab-badge.svg\" alt=\"Open In Colab\"/></a>"
      ]
    },
    {
      "cell_type": "code",
      "source": [
        "#Using the merged dataset we created\n",
        "import pandas as pd\n",
        "merged_data = pd.read_csv(\"Merged_Data.csv\")\n",
        "\n",
        "# Creating aggregated features for customers for the lookalike model\n",
        "customer_features = merged_data.groupby('CustomerID').agg({\n",
        "    'TotalValue': 'sum',   # summin up the Total spending\n",
        "    'TransactionID': 'count',  # counting Number of transactions\n",
        "    'ProductID': lambda x: x.nunique(),  # counting Unique products purchases\n",
        "    'Category': lambda x: x.mode()[0]  # Most purchased product category as [0] is mentioned and mode here is calculating the most common value\n",
        "}).reset_index() #resetting the group df and making customerID a column again\n",
        "\n",
        "# Merging with profile features\n",
        "customer_features = customer_features.merge(customers[['CustomerID', 'Region']], on='CustomerID')\n",
        "\n",
        "# Renaming columns for clarity\n",
        "customer_features.rename(columns={\n",
        "    'TotalValue': 'TotalSpend',\n",
        "    'TransactionID': 'TransactionCount',\n",
        "    'ProductID': 'UniqueProducts',\n",
        "    'Category': 'FavoriteCategory'\n",
        "}, inplace=True)\n",
        "\n",
        "print(customer_features.head())"
      ],
      "metadata": {
        "colab": {
          "base_uri": "https://localhost:8080/"
        },
        "id": "I6ezE4j3MvM1",
        "outputId": "fda75aaa-d28c-467f-d945-9d873f967a1d"
      },
      "execution_count": 65,
      "outputs": [
        {
          "output_type": "stream",
          "name": "stdout",
          "text": [
            "  CustomerID  TotalSpend  TransactionCount  UniqueProducts FavoriteCategory  \\\n",
            "0      C0001     3354.52                 5               5      Electronics   \n",
            "1      C0002     1862.74                 4               4         Clothing   \n",
            "2      C0003     2725.38                 4               4       Home Decor   \n",
            "3      C0004     5354.88                 8               8            Books   \n",
            "4      C0005     2034.24                 3               3      Electronics   \n",
            "\n",
            "          Region  \n",
            "0  South America  \n",
            "1           Asia  \n",
            "2  South America  \n",
            "3  South America  \n",
            "4           Asia  \n"
          ]
        }
      ]
    },
    {
      "cell_type": "code",
      "source": [
        "from sklearn.preprocessing import StandardScaler\n",
        "from sklearn.metrics.pairwise import cosine_similarity\n",
        "\n",
        "# Encode categorical variables\n",
        "customer_features = pd.get_dummies(customer_features, columns=['Region', 'FavoriteCategory']) #one hot encoding is done on regiona and favourite category #here each value which is unique gets converted into new column like region as region_southamerica #it is done because algo can't get wordtype data\n",
        "# Normalize numerical features including the categorical variables\n",
        "scaler = StandardScaler()\n",
        "scaled_features = scaler.fit_transform(customer_features.drop(columns=['CustomerID'])) #leaving customerId as it is not a scalable feature it is sued in identification #scaled features is a matrix\n",
        "\n",
        "# Compute similarity matrix\n",
        "similarity_matrix = cosine_similarity(scaled_features) #calculating similarity between customers using the info in scaled features\n",
        "similarity_df = pd.DataFrame(similarity_matrix, index=customer_features['CustomerID'], columns=customer_features['CustomerID'])\n",
        "print(similarity_df.head()) #visualizing the similarity score of different customers\n",
        "\n",
        "# Get top 3 similar customers for first 20 customers for checking\n",
        "lookalikes = {}\n",
        "for customer in customer_features['CustomerID'][:20]: #we are finding similarity based on first 20 customers\n",
        "    similar_customers = similarity_df[customer].sort_values(ascending=False)[1:4]  # Exclude self-similarity as it will always be 1\n",
        "    lookalikes[customer] = similar_customers.index.tolist()\n",
        "\n",
        "print(lookalikes)"
      ],
      "metadata": {
        "colab": {
          "base_uri": "https://localhost:8080/"
        },
        "id": "kRy3TmvsMv1G",
        "outputId": "dc53db88-24d9-462b-9caf-66e336fd8c03"
      },
      "execution_count": 66,
      "outputs": [
        {
          "output_type": "stream",
          "name": "stdout",
          "text": [
            "CustomerID     C0001     C0002     C0003     C0004     C0005     C0006  \\\n",
            "CustomerID                                                               \n",
            "C0001       1.000000 -0.285590  0.255542  0.197848  0.334010  0.250969   \n",
            "C0002      -0.285590  1.000000 -0.191848 -0.464241  0.450607 -0.334847   \n",
            "C0003       0.255542 -0.191848  1.000000  0.020218 -0.144352  0.276483   \n",
            "C0004       0.197848 -0.464241  0.020218  1.000000 -0.549339  0.611017   \n",
            "C0005       0.334010  0.450607 -0.144352 -0.549339  1.000000 -0.266054   \n",
            "\n",
            "CustomerID     C0007     C0008     C0009     C0010  ...     C0191     C0192  \\\n",
            "CustomerID                                          ...                       \n",
            "C0001       0.337738 -0.199337 -0.266436 -0.297421  ...  0.269622  0.945783   \n",
            "C0002       0.433603 -0.340226  0.472209  0.444493  ... -0.326076 -0.160530   \n",
            "C0003      -0.159235  0.088885 -0.120111 -0.198306  ...  0.268215  0.321034   \n",
            "C0004      -0.530930  0.284727 -0.591258 -0.487534  ...  0.710227 -0.019591   \n",
            "C0005       0.996151 -0.463998  0.022157 -0.089157  ... -0.314864  0.455005   \n",
            "\n",
            "CustomerID     C0193     C0194     C0195     C0196     C0197     C0198  \\\n",
            "CustomerID                                                               \n",
            "C0001      -0.358341 -0.332955  0.254572 -0.298858  0.336394 -0.248072   \n",
            "C0002       0.418868 -0.386633 -0.346345 -0.251002 -0.090268  0.469314   \n",
            "C0003      -0.275769 -0.420796  0.870776  0.384571 -0.150557 -0.074366   \n",
            "C0004      -0.006331  0.433446  0.362377 -0.362276 -0.571981 -0.649297   \n",
            "C0005       0.439315 -0.452564 -0.371548 -0.172847  0.498721  0.086065   \n",
            "\n",
            "CustomerID     C0199     C0200  \n",
            "CustomerID                      \n",
            "C0001       0.360663 -0.304555  \n",
            "C0002      -0.140652  0.851961  \n",
            "C0003      -0.207310 -0.314378  \n",
            "C0004      -0.479663 -0.194843  \n",
            "C0005       0.448267  0.265571  \n",
            "\n",
            "[5 rows x 199 columns]\n",
            "{'C0001': ['C0190', 'C0048', 'C0091'], 'C0002': ['C0088', 'C0092', 'C0134'], 'C0003': ['C0031', 'C0052', 'C0158'], 'C0004': ['C0155', 'C0087', 'C0165'], 'C0005': ['C0186', 'C0007', 'C0140'], 'C0006': ['C0168', 'C0187', 'C0011'], 'C0007': ['C0005', 'C0115', 'C0186'], 'C0008': ['C0065', 'C0059', 'C0109'], 'C0009': ['C0198', 'C0062', 'C0061'], 'C0010': ['C0061', 'C0111', 'C0009'], 'C0011': ['C0137', 'C0191', 'C0174'], 'C0012': ['C0113', 'C0163', 'C0195'], 'C0013': ['C0099', 'C0108', 'C0107'], 'C0014': ['C0060', 'C0089', 'C0166'], 'C0015': ['C0036', 'C0131', 'C0094'], 'C0016': ['C0183', 'C0067', 'C0030'], 'C0017': ['C0075', 'C0041', 'C0057'], 'C0018': ['C0117', 'C0125', 'C0122'], 'C0019': ['C0081', 'C0064', 'C0057'], 'C0020': ['C0050', 'C0035', 'C0026']}\n"
          ]
        }
      ]
    },
    {
      "cell_type": "code",
      "source": [
        "# Preparing the lookalike map in the required format\n",
        "lookalike_map = {}\n",
        "for customer in customer_features['CustomerID'][:20]:  # First 20 customers\n",
        "    similar_customers = similarity_df[customer].sort_values(ascending=False)[1:4]  # Exclude self-similarity\n",
        "    lookalike_map[customer] = [(similar_cust, similarity_df.loc[customer, similar_cust]) for similar_cust in similar_customers.index]\n",
        "\n",
        "# Output the map\n",
        "import json\n",
        "with open('Lookalike_Map.json', 'w') as f:\n",
        "    json.dump(lookalike_map, f, indent=4)\n",
        "\n",
        "print(\"Lookalike Map generated successfully!\")\n",
        "# Convert to DataFrame and save\n",
        "lookalike_df = pd.DataFrame(lookalike_map)\n",
        "lookalike_df.to_csv('Lookalike.csv', index=False)\n",
        "print(\"Lookalike CSV generated successfully!\")"
      ],
      "metadata": {
        "colab": {
          "base_uri": "https://localhost:8080/"
        },
        "id": "G6zamvR_M617",
        "outputId": "b420c50c-9313-467a-a57e-a133b19a3399"
      },
      "execution_count": 67,
      "outputs": [
        {
          "output_type": "stream",
          "name": "stdout",
          "text": [
            "Lookalike Map generated successfully!\n",
            "Lookalike CSV generated successfully!\n"
          ]
        }
      ]
    }
  ],
  "metadata": {
    "colab": {
      "provenance": [],
      "authorship_tag": "ABX9TyOAK2JMCX5/yOsRRAj1mGrO",
      "include_colab_link": true
    },
    "kernelspec": {
      "display_name": "Python 3",
      "name": "python3"
    },
    "language_info": {
      "name": "python"
    }
  },
  "nbformat": 4,
  "nbformat_minor": 0
}